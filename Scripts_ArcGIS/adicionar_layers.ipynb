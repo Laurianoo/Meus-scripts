{
 "cells": [
  {
   "cell_type": "code",
   "execution_count": null,
   "id": "abe4b900",
   "metadata": {
    "vscode": {
     "languageId": "plaintext"
    }
   },
   "outputs": [],
   "source": [
    "'''\n",
    "Esse eu acredito que seja o primeiro script que você disse, mas caso não seja me fala\n",
    "'''"
   ]
  },
  {
   "cell_type": "code",
   "execution_count": null,
   "id": "cef7a3cd",
   "metadata": {
    "vscode": {
     "languageId": "plaintext"
    }
   },
   "outputs": [],
   "source": [
    "import arcpy\n",
    "import pandas\n",
    "import geopandas\n",
    "import time\n",
    "\n",
    "map_name = \"Map\"\n",
    "cntd = 0\n",
    "\n",
    "# Obtenha um projeto do ArcGIS Pro\n",
    "aprx = arcpy.mp.ArcGISProject(\"CURRENT\")\n",
    "\n",
    "# Obtenha um mapa dentro do projeto\n",
    "m = aprx.listMaps()[0]\n",
    "\n",
    "# if your Planet API Key is not set as an environment variable, you can paste it below\n",
    "if os.environ.get('PL_API_KEY', ''):\n",
    "    API_KEY = os.environ.get('PL_API_KEY', '')\n",
    "else:\n",
    "    API_KEY = 'PLAK0219d8af8ac043908352cb6faa9b9903'\n",
    "\n",
    "PLANET_TILE_URL_TEMPLATE = \"https://tiles.planet.com/data/v1/{item_type}/{item_id}/{{z}}/{{x}}/{{y}}.png?api_key={API_KEY}\"\n",
    "\n",
    "# Add planet tiles from search results\n",
    "for result in geojson['features']:\n",
    "    # item_id is the geojson feature id\n",
    "    item_id = result[\"id\"]\n",
    "    # item_type is in the geojson feature properties\n",
    "    item_type = result[\"properties\"][\"item_type\"]\n",
    "\n",
    "    # Create the Planet tile URL for this specific item\n",
    "    tile_url = PLANET_TILE_URL_TEMPLATE.format(item_id=item_id, item_type=item_type, API_KEY=API_KEY)\n",
    "\n",
    "    print(tile_url)\n",
    "    \n",
    "    m.addDataFromPath(tile_url, 'AUTOMATIC')\n",
    "    time.sleep(2)"
   ]
  },
  {
   "cell_type": "code",
   "execution_count": null,
   "id": "87013e50",
   "metadata": {
    "vscode": {
     "languageId": "plaintext"
    }
   },
   "outputs": [],
   "source": [
    "# Caso nâo funcione teste o seguinte fluXo:"
   ]
  },
  {
   "cell_type": "code",
   "execution_count": null,
   "id": "dfd52fcb",
   "metadata": {
    "vscode": {
     "languageId": "plaintext"
    }
   },
   "outputs": [],
   "source": [
    "# Stockton, CA bounding box (created via geojson.io)\n",
    "geojson_geometry = {\n",
    "  \"type\": \"Polygon\",\n",
    "  \"coordinates\": \n",
    "     [\n",
    "          [\n",
    "            [\n",
    "              -43.29520982852239,\n",
    "              -22.94525882116791\n",
    "            ],\n",
    "            [\n",
    "              -43.29520982852239,\n",
    "              -22.991522610411707\n",
    "            ],\n",
    "            [\n",
    "              -43.24091986050328,\n",
    "              -22.991522610411707\n",
    "            ],\n",
    "            [\n",
    "              -43.24091986050328,\n",
    "              -22.94525882116791\n",
    "            ],\n",
    "            [\n",
    "              -43.29520982852239,\n",
    "              -22.94525882116791\n",
    "            ]\n",
    "          ]\n",
    "        ]\n",
    "}\n",
    "\n",
    "\n",
    "input_dict = {\n",
    "    'type': 'GeometryFilter',\n",
    "    'field_name': 'geometry',\n",
    "    'config': {\n",
    "        0: '<POLYGON ((-43.767 -22.913, -43.768 -22.931, -43.748 -22.932, -43.748 -22.913, -43.767 -22.913))>'\n",
    "    }\n",
    "}\n",
    "\n",
    "# Extrair a string do polígono do input_dict\n",
    "polygon_wkt = input_dict['config'][0]\n",
    "\n",
    "# Limpar a string (remover caracteres indesejados)\n",
    "cleaned_wkt = polygon_wkt.strip(\"<>\").replace(\"POLYGON ((\", \"\").replace(\"))\", \"\")\n",
    "\n",
    "# Dividir os pontos e converter em coordenadas [[lon, lat], ...]\n",
    "coordinates = [\n",
    "    [float(coord.split()[0]), float(coord.split()[1])] \n",
    "    for coord in cleaned_wkt.split(\", \")\n",
    "]\n",
    "\n",
    "# Fechar o polígono (último ponto igual ao primeiro)\n",
    "if coordinates[0] != coordinates[-1]:\n",
    "    coordinates.append(coordinates[0])\n",
    "\n",
    "# Estruturar no formato GeoJSON\n",
    "geojson_geometry = {\n",
    "    \"type\": \"Polygon\",\n",
    "    \"coordinates\": [coordinates]  # Lista de anéis (no caso, 1 anel)\n",
    "}\n",
    "\n",
    "# get images that overlap with our AOI \n",
    "geometry_filter = {\n",
    "  \"type\": \"GeometryFilter\",\n",
    "  \"field_name\": \"geometry\",\n",
    "  \"config\": geojson_geometry\n",
    "}\n",
    "\n",
    "\n",
    "# get images acquired within a date range\n",
    "date_range_filter = {\n",
    "  \"type\": \"DateRangeFilter\",\n",
    "  \"field_name\": \"acquired\",\n",
    "  \"config\": {\n",
    "    \"gte\": \"2024-08-28T00:00:00.000Z\",\n",
    "    \"lte\": \"2024-09-01T00:00:00.000Z\"\n",
    "  }\n",
    "}\n",
    "\n",
    "# only get images which have <50% cloud coverage\n",
    "cloud_cover_filter = {\n",
    "  \"type\": \"RangeFilter\",\n",
    "  \"field_name\": \"cloud_cover\",\n",
    "  \"config\": {\n",
    "    \"lte\": 0.5\n",
    "  }\n",
    "}\n",
    "\n",
    "# combine our geo, date, cloud filters\n",
    "combined_filter = {\n",
    "  \"type\": \"AndFilter\",\n",
    "  \"config\": [geometry_filter, date_range_filter, cloud_cover_filter]\n",
    "}"
   ]
  },
  {
   "cell_type": "code",
   "execution_count": null,
   "id": "85ee153a",
   "metadata": {
    "vscode": {
     "languageId": "plaintext"
    }
   },
   "outputs": [],
   "source": [
    "import json\n",
    "import pprint\n",
    "import requests\n",
    "from requests.auth import HTTPBasicAuth\n",
    "\n",
    "item_type = \"PSScene\"\n",
    "\n",
    "# API request object\n",
    "search_request = {\n",
    "  \"item_types\": [item_type], \n",
    "  \"filter\": combined_filter\n",
    "}\n",
    "\n",
    "# fire off the POST request\n",
    "search_result = \\\n",
    "  requests.post(\n",
    "    'https://api.planet.com/data/v1/quick-search',\n",
    "    auth=HTTPBasicAuth(API_KEY, ''),\n",
    "    json=search_request)\n",
    "\n",
    "geojson = search_result.json()\n",
    "\n",
    "image_ids = [feature['id'] for feature in geojson['features']]\n",
    "\n",
    "# For demo purposes, just grab the first image ID\n",
    "id0 = image_ids[0]\n",
    "id0_url = 'https://api.planet.com/data/v1/item-types/{}/items/{}/assets'.format(item_type, id0)\n",
    "\n",
    "# Returns JSON metadata for assets in this ID. Learn more: planet.com/docs/reference/data-api/items-assets/#asset\n",
    "result = \\\n",
    "  requests.get(\n",
    "    id0_url,\n",
    "    auth=HTTPBasicAuth(API_KEY, '')\n",
    "  )"
   ]
  },
  {
   "cell_type": "code",
   "execution_count": null,
   "id": "efc32a7e",
   "metadata": {
    "vscode": {
     "languageId": "plaintext"
    }
   },
   "outputs": [],
   "source": [
    "PLANET_TILE_URL_TEMPLATE = \"https://tiles.planet.com/data/v1/{item_type}/{item_id}/{{z}}/{{x}}/{{y}}.png?api_key={API_KEY}\"\n",
    "\n",
    "cntd = 0 \n",
    "\n",
    "for result in geojson['features']:\n",
    "    try:\n",
    "        item_id = result[\"id\"]\n",
    "        item_type = result[\"properties\"][\"item_type\"]\n",
    "        \n",
    "        # Cria URL do tile\n",
    "        tile_url = PLANET_TILE_URL_TEMPLATE.format(\n",
    "            item_id=item_id,\n",
    "            item_type=item_type,\n",
    "            API_KEY=API_KEY\n",
    "        )\n",
    "        \n",
    "        # Adiciona camada temporária\n",
    "        added_layer = m.addDataFromPath(tile_url)\n",
    "        print(f\"Processando: {item_id}\")\n",
    "        time.sleep(2)  # Espera carregamento\n",
    "\n",
    "    except Exception as e:\n",
    "        print(f\"Erro no item {item_id}: {str(e)}\")"
   ]
  }
 ],
 "metadata": {
  "language_info": {
   "name": "python"
  }
 },
 "nbformat": 4,
 "nbformat_minor": 5
}
